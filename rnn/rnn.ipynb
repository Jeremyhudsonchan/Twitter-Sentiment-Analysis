{
  "nbformat": 4,
  "nbformat_minor": 0,
  "metadata": {
    "colab": {
      "provenance": []
    },
    "kernelspec": {
      "name": "python3",
      "display_name": "Python 3"
    },
    "language_info": {
      "name": "python"
    },
    "accelerator": "GPU",
    "gpuClass": "premium"
  },
  "cells": [
    {
      "cell_type": "code",
      "execution_count": 8,
      "metadata": {
        "colab": {
          "base_uri": "https://localhost:8080/"
        },
        "id": "9lDoF1di0gh-",
        "outputId": "3d63a9ee-3f98-4d6c-9cd9-85ac890949c4"
      },
      "outputs": [
        {
          "output_type": "stream",
          "name": "stdout",
          "text": [
            "Looking in indexes: https://pypi.org/simple, https://us-python.pkg.dev/colab-wheels/public/simple/\n",
            "Requirement already satisfied: gensim==3.8.3 in /usr/local/lib/python3.8/dist-packages (3.8.3)\n",
            "Requirement already satisfied: six>=1.5.0 in /usr/local/lib/python3.8/dist-packages (from gensim==3.8.3) (1.15.0)\n",
            "Requirement already satisfied: smart-open>=1.8.1 in /usr/local/lib/python3.8/dist-packages (from gensim==3.8.3) (5.2.1)\n",
            "Requirement already satisfied: scipy>=0.18.1 in /usr/local/lib/python3.8/dist-packages (from gensim==3.8.3) (1.7.3)\n",
            "Requirement already satisfied: numpy>=1.11.3 in /usr/local/lib/python3.8/dist-packages (from gensim==3.8.3) (1.21.6)\n",
            "Looking in indexes: https://pypi.org/simple, https://us-python.pkg.dev/colab-wheels/public/simple/\n",
            "Requirement already satisfied: keras in /usr/local/lib/python3.8/dist-packages (2.11.0)\n",
            "Looking in indexes: https://pypi.org/simple, https://us-python.pkg.dev/colab-wheels/public/simple/\n",
            "Requirement already satisfied: pandas in /usr/local/lib/python3.8/dist-packages (1.5.2)\n",
            "Requirement already satisfied: numpy>=1.20.3 in /usr/local/lib/python3.8/dist-packages (from pandas) (1.21.6)\n",
            "Requirement already satisfied: pytz>=2020.1 in /usr/local/lib/python3.8/dist-packages (from pandas) (2022.6)\n",
            "Requirement already satisfied: python-dateutil>=2.8.1 in /usr/local/lib/python3.8/dist-packages (from pandas) (2.8.2)\n",
            "Requirement already satisfied: six>=1.5 in /usr/local/lib/python3.8/dist-packages (from python-dateutil>=2.8.1->pandas) (1.15.0)\n",
            "Looking in indexes: https://pypi.org/simple, https://us-python.pkg.dev/colab-wheels/public/simple/\n",
            "Requirement already satisfied: tensorflow in /usr/local/lib/python3.8/dist-packages (2.11.0)\n",
            "Requirement already satisfied: flatbuffers>=2.0 in /usr/local/lib/python3.8/dist-packages (from tensorflow) (22.11.23)\n",
            "Requirement already satisfied: libclang>=13.0.0 in /usr/local/lib/python3.8/dist-packages (from tensorflow) (14.0.6)\n",
            "Requirement already satisfied: google-pasta>=0.1.1 in /usr/local/lib/python3.8/dist-packages (from tensorflow) (0.2.0)\n",
            "Requirement already satisfied: termcolor>=1.1.0 in /usr/local/lib/python3.8/dist-packages (from tensorflow) (2.1.1)\n",
            "Requirement already satisfied: protobuf<3.20,>=3.9.2 in /usr/local/lib/python3.8/dist-packages (from tensorflow) (3.19.6)\n",
            "Requirement already satisfied: six>=1.12.0 in /usr/local/lib/python3.8/dist-packages (from tensorflow) (1.15.0)\n",
            "Requirement already satisfied: keras<2.12,>=2.11.0 in /usr/local/lib/python3.8/dist-packages (from tensorflow) (2.11.0)\n",
            "Requirement already satisfied: setuptools in /usr/local/lib/python3.8/dist-packages (from tensorflow) (57.4.0)\n",
            "Requirement already satisfied: h5py>=2.9.0 in /usr/local/lib/python3.8/dist-packages (from tensorflow) (3.1.0)\n",
            "Requirement already satisfied: typing-extensions>=3.6.6 in /usr/local/lib/python3.8/dist-packages (from tensorflow) (4.1.1)\n",
            "Requirement already satisfied: packaging in /usr/local/lib/python3.8/dist-packages (from tensorflow) (21.3)\n",
            "Requirement already satisfied: numpy>=1.20 in /usr/local/lib/python3.8/dist-packages (from tensorflow) (1.21.6)\n",
            "Requirement already satisfied: absl-py>=1.0.0 in /usr/local/lib/python3.8/dist-packages (from tensorflow) (1.3.0)\n",
            "Requirement already satisfied: wrapt>=1.11.0 in /usr/local/lib/python3.8/dist-packages (from tensorflow) (1.14.1)\n",
            "Requirement already satisfied: opt-einsum>=2.3.2 in /usr/local/lib/python3.8/dist-packages (from tensorflow) (3.3.0)\n",
            "Requirement already satisfied: grpcio<2.0,>=1.24.3 in /usr/local/lib/python3.8/dist-packages (from tensorflow) (1.50.0)\n",
            "Requirement already satisfied: tensorflow-io-gcs-filesystem>=0.23.1 in /usr/local/lib/python3.8/dist-packages (from tensorflow) (0.28.0)\n",
            "Requirement already satisfied: tensorflow-estimator<2.12,>=2.11.0 in /usr/local/lib/python3.8/dist-packages (from tensorflow) (2.11.0)\n",
            "Requirement already satisfied: gast<=0.4.0,>=0.2.1 in /usr/local/lib/python3.8/dist-packages (from tensorflow) (0.4.0)\n",
            "Requirement already satisfied: astunparse>=1.6.0 in /usr/local/lib/python3.8/dist-packages (from tensorflow) (1.6.3)\n",
            "Requirement already satisfied: tensorboard<2.12,>=2.11 in /usr/local/lib/python3.8/dist-packages (from tensorflow) (2.11.0)\n",
            "Requirement already satisfied: wheel<1.0,>=0.23.0 in /usr/local/lib/python3.8/dist-packages (from astunparse>=1.6.0->tensorflow) (0.38.4)\n",
            "Requirement already satisfied: google-auth-oauthlib<0.5,>=0.4.1 in /usr/local/lib/python3.8/dist-packages (from tensorboard<2.12,>=2.11->tensorflow) (0.4.6)\n",
            "Requirement already satisfied: markdown>=2.6.8 in /usr/local/lib/python3.8/dist-packages (from tensorboard<2.12,>=2.11->tensorflow) (3.4.1)\n",
            "Requirement already satisfied: tensorboard-plugin-wit>=1.6.0 in /usr/local/lib/python3.8/dist-packages (from tensorboard<2.12,>=2.11->tensorflow) (1.8.1)\n",
            "Requirement already satisfied: werkzeug>=1.0.1 in /usr/local/lib/python3.8/dist-packages (from tensorboard<2.12,>=2.11->tensorflow) (1.0.1)\n",
            "Requirement already satisfied: requests<3,>=2.21.0 in /usr/local/lib/python3.8/dist-packages (from tensorboard<2.12,>=2.11->tensorflow) (2.23.0)\n",
            "Requirement already satisfied: tensorboard-data-server<0.7.0,>=0.6.0 in /usr/local/lib/python3.8/dist-packages (from tensorboard<2.12,>=2.11->tensorflow) (0.6.1)\n",
            "Requirement already satisfied: google-auth<3,>=1.6.3 in /usr/local/lib/python3.8/dist-packages (from tensorboard<2.12,>=2.11->tensorflow) (2.14.1)\n",
            "Requirement already satisfied: pyasn1-modules>=0.2.1 in /usr/local/lib/python3.8/dist-packages (from google-auth<3,>=1.6.3->tensorboard<2.12,>=2.11->tensorflow) (0.2.8)\n",
            "Requirement already satisfied: rsa<5,>=3.1.4 in /usr/local/lib/python3.8/dist-packages (from google-auth<3,>=1.6.3->tensorboard<2.12,>=2.11->tensorflow) (4.9)\n",
            "Requirement already satisfied: cachetools<6.0,>=2.0.0 in /usr/local/lib/python3.8/dist-packages (from google-auth<3,>=1.6.3->tensorboard<2.12,>=2.11->tensorflow) (5.2.0)\n",
            "Requirement already satisfied: requests-oauthlib>=0.7.0 in /usr/local/lib/python3.8/dist-packages (from google-auth-oauthlib<0.5,>=0.4.1->tensorboard<2.12,>=2.11->tensorflow) (1.3.1)\n",
            "Requirement already satisfied: importlib-metadata>=4.4 in /usr/local/lib/python3.8/dist-packages (from markdown>=2.6.8->tensorboard<2.12,>=2.11->tensorflow) (4.13.0)\n",
            "Requirement already satisfied: zipp>=0.5 in /usr/local/lib/python3.8/dist-packages (from importlib-metadata>=4.4->markdown>=2.6.8->tensorboard<2.12,>=2.11->tensorflow) (3.10.0)\n",
            "Requirement already satisfied: pyasn1<0.5.0,>=0.4.6 in /usr/local/lib/python3.8/dist-packages (from pyasn1-modules>=0.2.1->google-auth<3,>=1.6.3->tensorboard<2.12,>=2.11->tensorflow) (0.4.8)\n",
            "Requirement already satisfied: idna<3,>=2.5 in /usr/local/lib/python3.8/dist-packages (from requests<3,>=2.21.0->tensorboard<2.12,>=2.11->tensorflow) (2.10)\n",
            "Requirement already satisfied: certifi>=2017.4.17 in /usr/local/lib/python3.8/dist-packages (from requests<3,>=2.21.0->tensorboard<2.12,>=2.11->tensorflow) (2022.9.24)\n",
            "Requirement already satisfied: urllib3!=1.25.0,!=1.25.1,<1.26,>=1.21.1 in /usr/local/lib/python3.8/dist-packages (from requests<3,>=2.21.0->tensorboard<2.12,>=2.11->tensorflow) (1.24.3)\n",
            "Requirement already satisfied: chardet<4,>=3.0.2 in /usr/local/lib/python3.8/dist-packages (from requests<3,>=2.21.0->tensorboard<2.12,>=2.11->tensorflow) (3.0.4)\n",
            "Requirement already satisfied: oauthlib>=3.0.0 in /usr/local/lib/python3.8/dist-packages (from requests-oauthlib>=0.7.0->google-auth-oauthlib<0.5,>=0.4.1->tensorboard<2.12,>=2.11->tensorflow) (3.2.2)\n",
            "Requirement already satisfied: pyparsing!=3.0.5,>=2.0.2 in /usr/local/lib/python3.8/dist-packages (from packaging->tensorflow) (3.0.9)\n"
          ]
        }
      ],
      "source": [
        "!pip install gensim==3.8.3\n",
        "!pip install keras --upgrade\n",
        "!pip install pandas --upgrade\n",
        "!pip install tensorflow --upgrade"
      ]
    },
    {
      "cell_type": "code",
      "source": [
        "import pandas as pd\n",
        "\n",
        "# Matplot\n",
        "import matplotlib.pyplot as plt\n",
        "%matplotlib inline\n",
        "\n",
        "# Scikit-learn\n",
        "from sklearn.model_selection import train_test_split\n",
        "from sklearn.preprocessing import LabelEncoder\n",
        "from sklearn.metrics import confusion_matrix, classification_report, accuracy_score\n",
        "from sklearn.manifold import TSNE\n",
        "from sklearn.feature_extraction.text import TfidfVectorizer\n",
        "\n",
        "# Keras\n",
        "import tensorflow as tf\n",
        "from keras.preprocessing.text import Tokenizer\n",
        "#from keras.preprocessing.sequence import pad_sequences\n",
        "from keras.utils import pad_sequences\n",
        "from keras.models import Sequential\n",
        "from keras.layers import Activation, Dense, Dropout, Embedding, Flatten, Conv1D, MaxPooling1D, LSTM\n",
        "from keras import utils\n",
        "from keras.callbacks import ReduceLROnPlateau, EarlyStopping\n",
        "\n",
        "# nltk\n",
        "import nltk\n",
        "from nltk.corpus import stopwords\n",
        "from  nltk.stem import SnowballStemmer\n",
        "\n",
        "# Word2vec\n",
        "import gensim\n",
        "\n",
        "# Utility\n",
        "import re\n",
        "import numpy as np\n",
        "import os\n",
        "from collections import Counter\n",
        "import logging\n",
        "import time\n",
        "import pickle\n",
        "import itertools"
      ],
      "metadata": {
        "id": "dlbLTAVu1Jnk"
      },
      "execution_count": 9,
      "outputs": []
    },
    {
      "cell_type": "code",
      "source": [
        "vocab_size = 290419\n",
        "# WORD2VEC \n",
        "W2V_SIZE = 300\n",
        "SEQUENCE_LENGTH = 300\n",
        "W2V_WINDOW = 7\n",
        "W2V_EPOCH = 32\n",
        "W2V_MIN_COUNT = 10"
      ],
      "metadata": {
        "id": "PWWkUTBb8AOn"
      },
      "execution_count": 10,
      "outputs": []
    },
    {
      "cell_type": "code",
      "source": [
        "from google.colab import drive\n",
        "drive.mount('/content/drive')"
      ],
      "metadata": {
        "colab": {
          "base_uri": "https://localhost:8080/"
        },
        "id": "9YMeBNAl2A-q",
        "outputId": "a32a0f0a-0a0f-4c3c-c4d6-4fcf641143aa"
      },
      "execution_count": 11,
      "outputs": [
        {
          "output_type": "stream",
          "name": "stdout",
          "text": [
            "Drive already mounted at /content/drive; to attempt to forcibly remount, call drive.mount(\"/content/drive\", force_remount=True).\n"
          ]
        }
      ]
    },
    {
      "cell_type": "code",
      "source": [
        "#LOADING\n",
        "load_dir = '/content/drive/MyDrive/nns/'\n",
        "train_test_dir = load_dir+'saved_train_test/'\n",
        "embedding_matrix = np.load(load_dir+'embedding_matrix.npy')\n",
        "\n",
        "x_train = np.load(train_test_dir+'x_train.npy')\n",
        "y_train = np.load(train_test_dir+'y_train.npy')\n",
        "\n",
        "x_test = np.load(train_test_dir+'x_test.npy')\n",
        "y_test = np.load(train_test_dir+'y_test.npy')"
      ],
      "metadata": {
        "id": "fpBLAbAZ1uw8"
      },
      "execution_count": 12,
      "outputs": []
    },
    {
      "cell_type": "markdown",
      "source": [
        "###NN Model"
      ],
      "metadata": {
        "id": "jc3FTRj88-6s"
      }
    },
    {
      "cell_type": "code",
      "source": [
        "#HYPER PARAMETERS\n",
        "model_name = \"RNN\"\n",
        "num_epochs = 15\n",
        "batch_size = 1024\n",
        "learning_rate = 1e-5\n",
        "rnn_units = 1024\n",
        "momentum=.9\n",
        "sequence_length=300\n",
        "activation=\"sigmoid\"\n",
        "optimizer='adam'"
      ],
      "metadata": {
        "id": "1SIfnf-w761F"
      },
      "execution_count": 38,
      "outputs": []
    },
    {
      "cell_type": "code",
      "source": [
        "#MODEL\n",
        "embedding_layer = Embedding(vocab_size, W2V_SIZE, weights=[embedding_matrix], \n",
        "                            input_length=SEQUENCE_LENGTH, \n",
        "                            #batch_input_shape=[batch_size, None], \n",
        "                            trainable=False)\n",
        "\n",
        "model = Sequential()\n",
        "model.add(embedding_layer)\n",
        "model.add(tf.keras.layers.Dropout(0.5))\n",
        "model.add(tf.keras.layers.GRU(rnn_units,\n",
        "                        recurrent_initializer='glorot_uniform'))\n",
        "model.add(Dense(1, activation='sigmoid'))\n",
        "\n",
        "\n",
        "model.summary()"
      ],
      "metadata": {
        "colab": {
          "base_uri": "https://localhost:8080/"
        },
        "id": "GRvtU9BcBkm9",
        "outputId": "a1ff4a3a-49a9-4349-8850-808ab70347f3"
      },
      "execution_count": 39,
      "outputs": [
        {
          "output_type": "stream",
          "name": "stdout",
          "text": [
            "Model: \"sequential_6\"\n",
            "_________________________________________________________________\n",
            " Layer (type)                Output Shape              Param #   \n",
            "=================================================================\n",
            " embedding_6 (Embedding)     (None, 300, 300)          87125700  \n",
            "                                                                 \n",
            " dropout_6 (Dropout)         (None, 300, 300)          0         \n",
            "                                                                 \n",
            " gru_7 (GRU)                 (None, 1024)              4073472   \n",
            "                                                                 \n",
            " dense_5 (Dense)             (None, 1)                 1025      \n",
            "                                                                 \n",
            "=================================================================\n",
            "Total params: 91,200,197\n",
            "Trainable params: 4,074,497\n",
            "Non-trainable params: 87,125,700\n",
            "_________________________________________________________________\n"
          ]
        }
      ]
    },
    {
      "cell_type": "code",
      "source": [
        "#OPTIMIZATION\n",
        "callbacks = [ tf.keras.callbacks.ReduceLROnPlateau(monitor='val_loss', patience=5, cooldown=0),\n",
        "              tf.keras.callbacks.EarlyStopping(monitor='val_accuracy', min_delta=1e-4, patience=5)]\n",
        "optimizer = tf.keras.optimizers.Adam(learning_rate=learning_rate)\n",
        "model.compile(loss='binary_crossentropy',\n",
        "              optimizer='adam',\n",
        "              metrics=['accuracy'])"
      ],
      "metadata": {
        "id": "g2yMLKsd8zy-"
      },
      "execution_count": 40,
      "outputs": []
    },
    {
      "cell_type": "code",
      "source": [
        "#TRAINING\n",
        "%%time\n",
        "history = model.fit(x_train, y_train,\n",
        "                    batch_size=batch_size,\n",
        "                    epochs=num_epochs,\n",
        "                    validation_split=0.1,\n",
        "                    verbose=1,\n",
        "                    callbacks=callbacks)"
      ],
      "metadata": {
        "colab": {
          "base_uri": "https://localhost:8080/"
        },
        "id": "p4WxPLHhB0AO",
        "outputId": "4627046c-ef83-4671-a338-d952e26bf22f"
      },
      "execution_count": 41,
      "outputs": [
        {
          "output_type": "stream",
          "name": "stdout",
          "text": [
            "Epoch 1/15\n",
            "141/141 [==============================] - 20s 127ms/step - loss: 0.6203 - accuracy: 0.6464 - val_loss: 0.5428 - val_accuracy: 0.7193 - lr: 0.0010\n",
            "Epoch 2/15\n",
            "141/141 [==============================] - 17s 124ms/step - loss: 0.5844 - accuracy: 0.7037 - val_loss: 0.5315 - val_accuracy: 0.7267 - lr: 0.0010\n",
            "Epoch 3/15\n",
            "141/141 [==============================] - 18s 125ms/step - loss: 0.5342 - accuracy: 0.7280 - val_loss: 0.5154 - val_accuracy: 0.7420 - lr: 0.0010\n",
            "Epoch 4/15\n",
            "141/141 [==============================] - 18s 125ms/step - loss: 0.5155 - accuracy: 0.7419 - val_loss: 0.5003 - val_accuracy: 0.7510 - lr: 0.0010\n",
            "Epoch 5/15\n",
            "141/141 [==============================] - 18s 125ms/step - loss: 0.5017 - accuracy: 0.7517 - val_loss: 0.4976 - val_accuracy: 0.7547 - lr: 0.0010\n",
            "Epoch 6/15\n",
            "141/141 [==============================] - 18s 125ms/step - loss: 0.5833 - accuracy: 0.7262 - val_loss: 0.5586 - val_accuracy: 0.7072 - lr: 0.0010\n",
            "Epoch 7/15\n",
            "141/141 [==============================] - 18s 124ms/step - loss: 0.5167 - accuracy: 0.7418 - val_loss: 0.5050 - val_accuracy: 0.7501 - lr: 0.0010\n",
            "Epoch 8/15\n",
            "141/141 [==============================] - 18s 124ms/step - loss: 0.4885 - accuracy: 0.7610 - val_loss: 0.5081 - val_accuracy: 0.7523 - lr: 0.0010\n",
            "Epoch 9/15\n",
            "141/141 [==============================] - 18s 125ms/step - loss: 0.4760 - accuracy: 0.7693 - val_loss: 0.5023 - val_accuracy: 0.7577 - lr: 0.0010\n",
            "Epoch 10/15\n",
            "141/141 [==============================] - 18s 126ms/step - loss: 0.4650 - accuracy: 0.7757 - val_loss: 0.5072 - val_accuracy: 0.7582 - lr: 0.0010\n",
            "Epoch 11/15\n",
            "141/141 [==============================] - 18s 125ms/step - loss: 0.4498 - accuracy: 0.7871 - val_loss: 0.4986 - val_accuracy: 0.7632 - lr: 1.0000e-04\n",
            "Epoch 12/15\n",
            "141/141 [==============================] - 18s 125ms/step - loss: 0.4447 - accuracy: 0.7908 - val_loss: 0.5024 - val_accuracy: 0.7628 - lr: 1.0000e-04\n",
            "Epoch 13/15\n",
            "141/141 [==============================] - 18s 124ms/step - loss: 0.4436 - accuracy: 0.7913 - val_loss: 0.4999 - val_accuracy: 0.7626 - lr: 1.0000e-04\n",
            "Epoch 14/15\n",
            "141/141 [==============================] - 18s 124ms/step - loss: 0.4413 - accuracy: 0.7921 - val_loss: 0.5027 - val_accuracy: 0.7631 - lr: 1.0000e-04\n",
            "Epoch 15/15\n",
            "141/141 [==============================] - 18s 125ms/step - loss: 0.4400 - accuracy: 0.7931 - val_loss: 0.5017 - val_accuracy: 0.7634 - lr: 1.0000e-04\n",
            "CPU times: user 3min 23s, sys: 3.56 s, total: 3min 27s\n",
            "Wall time: 4min 26s\n"
          ]
        }
      ]
    },
    {
      "cell_type": "code",
      "source": [
        "#TESTING\n",
        "score = model.evaluate(x_test, y_test, batch_size=batch_size)\n",
        "\n",
        "print(\"ACCURACY:\",score[1])\n",
        "print(\"LOSS:\",score[0])\n",
        "\n",
        "acc = history.history['accuracy']\n",
        "print(\"acc:\", acc)\n",
        "val_acc = history.history['val_accuracy']\n",
        "print(\"val_acc:\", val_acc)\n",
        "loss = history.history['loss']\n",
        "print(\"loss:\", loss)\n",
        "val_loss = history.history['val_loss']\n",
        "print(\"val_loss:\", val_loss)\n"
      ],
      "metadata": {
        "colab": {
          "base_uri": "https://localhost:8080/"
        },
        "id": "Cux6e7GJCf09",
        "outputId": "5bdf57d5-240a-4674-ac46-162d0f14d9d5"
      },
      "execution_count": 43,
      "outputs": [
        {
          "output_type": "stream",
          "name": "stdout",
          "text": [
            "40/40 [==============================] - 2s 43ms/step - loss: 0.5059 - accuracy: 0.7619\n",
            "ACCURACY: 0.7618749737739563\n",
            "LOSS: 0.5059124231338501\n",
            "acc: [0.6464305520057678, 0.7037152647972107, 0.7280277609825134, 0.741944432258606, 0.7517222166061401, 0.7261597514152527, 0.7418264150619507, 0.761020839214325, 0.7692638635635376, 0.7757083177566528, 0.7871041893959045, 0.7907639145851135, 0.7912847399711609, 0.7920764088630676, 0.7931110858917236]\n",
            "val_acc: [0.7192500233650208, 0.726687490940094, 0.7419999837875366, 0.7509999871253967, 0.754687488079071, 0.7071874737739563, 0.7500625252723694, 0.7523124814033508, 0.757687509059906, 0.7582499980926514, 0.7631875276565552, 0.7628124952316284, 0.7625625133514404, 0.7631250023841858, 0.7634375095367432]\n",
            "loss: [0.6203070878982544, 0.5843851566314697, 0.534212052822113, 0.5154542922973633, 0.5016673803329468, 0.5832963585853577, 0.5167282223701477, 0.48852208256721497, 0.4759618639945984, 0.46503710746765137, 0.4497710168361664, 0.44469568133354187, 0.44358956813812256, 0.4412883520126343, 0.4399559497833252]\n",
            "val_loss: [0.5428329706192017, 0.5314684510231018, 0.5153805613517761, 0.5002753734588623, 0.4976462721824646, 0.5586115717887878, 0.5049837827682495, 0.5080676674842834, 0.5022719502449036, 0.5072065591812134, 0.4985818862915039, 0.5023770332336426, 0.49994274973869324, 0.5027016997337341, 0.50166916847229]\n"
          ]
        }
      ]
    },
    {
      "cell_type": "code",
      "source": [
        "#SAVING \n",
        "save_dir = '/content/drive/MyDrive/nns/saved_nn_models/'\n",
        "model_name = \"RNN\"\n",
        "model.save(save_dir+model_name+\".h5\")\n"
      ],
      "metadata": {
        "id": "crvxR8W3Clwy"
      },
      "execution_count": 44,
      "outputs": []
    },
    {
      "cell_type": "code",
      "source": [
        "!ls /content/drive/MyDrive/nns/saved_nn_models/"
      ],
      "metadata": {
        "colab": {
          "base_uri": "https://localhost:8080/"
        },
        "id": "EiTb8ssHl5VN",
        "outputId": "7a792df3-000a-43ae-8976-4b08408e2d2e"
      },
      "execution_count": 45,
      "outputs": [
        {
          "output_type": "stream",
          "name": "stdout",
          "text": [
            "FFNN1.h5  FFNN3.h5  FFNN5.h5  LSTM.h5  RNN.h5\n"
          ]
        }
      ]
    }
  ]
}