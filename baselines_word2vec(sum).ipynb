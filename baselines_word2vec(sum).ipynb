{
  "cells": [
    {
      "cell_type": "code",
      "execution_count": 1,
      "metadata": {
        "colab": {
          "base_uri": "https://localhost:8080/"
        },
        "id": "yCqUJMJVQ3D4",
        "outputId": "f19bda8e-667b-4129-b006-8b04d2162a2d"
      },
      "outputs": [
        {
          "name": "stdout",
          "output_type": "stream",
          "text": [
            "\u001b[33mDEPRECATION: Configuring installation scheme with distutils config files is deprecated and will no longer work in the near future. If you are using a Homebrew or Linuxbrew Python, please see discussion at https://github.com/Homebrew/homebrew-core/issues/76621\u001b[0m\u001b[33m\n",
            "\u001b[0mRequirement already satisfied: scipy in /usr/local/lib/python3.9/site-packages (1.9.1)\n",
            "Requirement already satisfied: numpy<1.25.0,>=1.18.5 in /usr/local/lib/python3.9/site-packages (from scipy) (1.23.2)\n",
            "\u001b[33mDEPRECATION: Configuring installation scheme with distutils config files is deprecated and will no longer work in the near future. If you are using a Homebrew or Linuxbrew Python, please see discussion at https://github.com/Homebrew/homebrew-core/issues/76621\u001b[0m\u001b[33m\n",
            "\u001b[0m"
          ]
        }
      ],
      "source": [
        "!pip install scipy"
      ]
    },
    {
      "cell_type": "code",
      "execution_count": 2,
      "metadata": {
        "id": "4cZhWtcuw9Fm"
      },
      "outputs": [],
      "source": [
        "import pandas as pd\n",
        "import numpy as np\n",
        "import time"
      ]
    },
    {
      "cell_type": "code",
      "execution_count": 3,
      "metadata": {
        "id": "pckbxzm12j-u"
      },
      "outputs": [],
      "source": [
        "df = pd.read_csv(\"/Users/jeremyhudsonchan/Dropbox/Files/Github_Repos/Twitter-Sentiment-Analysis/data/processed/training.1600000.processed.noemoticon.csv\", encoding = \"latin-1\", low_memory=False)"
      ]
    },
    {
      "cell_type": "code",
      "execution_count": 4,
      "metadata": {
        "colab": {
          "base_uri": "https://localhost:8080/",
          "height": 268
        },
        "id": "CiqFtU2v3Cw4",
        "outputId": "15435632-3b8f-47ff-a411-6f3f19f50e1d"
      },
      "outputs": [
        {
          "data": {
            "text/html": [
              "<div>\n",
              "<style scoped>\n",
              "    .dataframe tbody tr th:only-of-type {\n",
              "        vertical-align: middle;\n",
              "    }\n",
              "\n",
              "    .dataframe tbody tr th {\n",
              "        vertical-align: top;\n",
              "    }\n",
              "\n",
              "    .dataframe thead th {\n",
              "        text-align: right;\n",
              "    }\n",
              "</style>\n",
              "<table border=\"1\" class=\"dataframe\">\n",
              "  <thead>\n",
              "    <tr style=\"text-align: right;\">\n",
              "      <th></th>\n",
              "      <th>ids</th>\n",
              "      <th>date</th>\n",
              "      <th>user</th>\n",
              "      <th>text</th>\n",
              "      <th>target</th>\n",
              "    </tr>\n",
              "  </thead>\n",
              "  <tbody>\n",
              "    <tr>\n",
              "      <th>0</th>\n",
              "      <td>1467810672</td>\n",
              "      <td>Mon Apr 06 22:19:49 PDT 2009</td>\n",
              "      <td>scotthamilton</td>\n",
              "      <td>is upset that he can't update his Facebook by ...</td>\n",
              "      <td>0</td>\n",
              "    </tr>\n",
              "    <tr>\n",
              "      <th>1</th>\n",
              "      <td>1467810917</td>\n",
              "      <td>Mon Apr 06 22:19:53 PDT 2009</td>\n",
              "      <td>mattycus</td>\n",
              "      <td>@Kenichan I dived many times for the ball. Man...</td>\n",
              "      <td>0</td>\n",
              "    </tr>\n",
              "    <tr>\n",
              "      <th>2</th>\n",
              "      <td>1467811184</td>\n",
              "      <td>Mon Apr 06 22:19:57 PDT 2009</td>\n",
              "      <td>ElleCTF</td>\n",
              "      <td>my whole body feels itchy and like its on fire</td>\n",
              "      <td>0</td>\n",
              "    </tr>\n",
              "    <tr>\n",
              "      <th>3</th>\n",
              "      <td>1467811193</td>\n",
              "      <td>Mon Apr 06 22:19:57 PDT 2009</td>\n",
              "      <td>Karoli</td>\n",
              "      <td>@nationwideclass no, it's not behaving at all....</td>\n",
              "      <td>0</td>\n",
              "    </tr>\n",
              "    <tr>\n",
              "      <th>4</th>\n",
              "      <td>1467811372</td>\n",
              "      <td>Mon Apr 06 22:20:00 PDT 2009</td>\n",
              "      <td>joy_wolf</td>\n",
              "      <td>@Kwesidei not the whole crew</td>\n",
              "      <td>0</td>\n",
              "    </tr>\n",
              "  </tbody>\n",
              "</table>\n",
              "</div>"
            ],
            "text/plain": [
              "          ids                          date           user  \\\n",
              "0  1467810672  Mon Apr 06 22:19:49 PDT 2009  scotthamilton   \n",
              "1  1467810917  Mon Apr 06 22:19:53 PDT 2009       mattycus   \n",
              "2  1467811184  Mon Apr 06 22:19:57 PDT 2009        ElleCTF   \n",
              "3  1467811193  Mon Apr 06 22:19:57 PDT 2009         Karoli   \n",
              "4  1467811372  Mon Apr 06 22:20:00 PDT 2009       joy_wolf   \n",
              "\n",
              "                                                text  target  \n",
              "0  is upset that he can't update his Facebook by ...       0  \n",
              "1  @Kenichan I dived many times for the ball. Man...       0  \n",
              "2    my whole body feels itchy and like its on fire        0  \n",
              "3  @nationwideclass no, it's not behaving at all....       0  \n",
              "4                      @Kwesidei not the whole crew        0  "
            ]
          },
          "execution_count": 4,
          "metadata": {},
          "output_type": "execute_result"
        }
      ],
      "source": [
        "df.head()"
      ]
    },
    {
      "cell_type": "code",
      "execution_count": 5,
      "metadata": {},
      "outputs": [],
      "source": [
        "# randomly sample 25000 rows with target == 0, and 25000 rows with target == 4\n",
        "neg_df = df[df.target == 0].sample(n=25000, random_state=5)\n",
        "pos_df = df[df.target == 4].sample(n=25000, random_state=5)"
      ]
    },
    {
      "cell_type": "code",
      "execution_count": 6,
      "metadata": {},
      "outputs": [
        {
          "data": {
            "text/html": [
              "<div>\n",
              "<style scoped>\n",
              "    .dataframe tbody tr th:only-of-type {\n",
              "        vertical-align: middle;\n",
              "    }\n",
              "\n",
              "    .dataframe tbody tr th {\n",
              "        vertical-align: top;\n",
              "    }\n",
              "\n",
              "    .dataframe thead th {\n",
              "        text-align: right;\n",
              "    }\n",
              "</style>\n",
              "<table border=\"1\" class=\"dataframe\">\n",
              "  <thead>\n",
              "    <tr style=\"text-align: right;\">\n",
              "      <th></th>\n",
              "      <th>ids</th>\n",
              "      <th>date</th>\n",
              "      <th>user</th>\n",
              "      <th>text</th>\n",
              "      <th>target</th>\n",
              "    </tr>\n",
              "  </thead>\n",
              "  <tbody>\n",
              "    <tr>\n",
              "      <th>740007</th>\n",
              "      <td>2265878782</td>\n",
              "      <td>Sun Jun 21 07:29:15 PDT 2009</td>\n",
              "      <td>MeeJong</td>\n",
              "      <td>This morning my daughter asked me if I hate my...</td>\n",
              "      <td>0</td>\n",
              "    </tr>\n",
              "    <tr>\n",
              "      <th>562036</th>\n",
              "      <td>2205565064</td>\n",
              "      <td>Wed Jun 17 05:00:35 PDT 2009</td>\n",
              "      <td>kathysyahrizal</td>\n",
              "      <td>I forgot to charge my bb, zzzzz only 35% left</td>\n",
              "      <td>0</td>\n",
              "    </tr>\n",
              "    <tr>\n",
              "      <th>318661</th>\n",
              "      <td>2002872654</td>\n",
              "      <td>Tue Jun 02 05:22:07 PDT 2009</td>\n",
              "      <td>kgautam</td>\n",
              "      <td>my MBP battery is fluctuating between dead to ...</td>\n",
              "      <td>0</td>\n",
              "    </tr>\n",
              "    <tr>\n",
              "      <th>131276</th>\n",
              "      <td>1835496893</td>\n",
              "      <td>Mon May 18 06:07:33 PDT 2009</td>\n",
              "      <td>thejanice</td>\n",
              "      <td>i really wish my landlord would call me back. ...</td>\n",
              "      <td>0</td>\n",
              "    </tr>\n",
              "    <tr>\n",
              "      <th>39699</th>\n",
              "      <td>1573596472</td>\n",
              "      <td>Tue Apr 21 01:55:46 PDT 2009</td>\n",
              "      <td>lucyxechelon</td>\n",
              "      <td>mean blog people</td>\n",
              "      <td>0</td>\n",
              "    </tr>\n",
              "  </tbody>\n",
              "</table>\n",
              "</div>"
            ],
            "text/plain": [
              "               ids                          date            user  \\\n",
              "740007  2265878782  Sun Jun 21 07:29:15 PDT 2009         MeeJong   \n",
              "562036  2205565064  Wed Jun 17 05:00:35 PDT 2009  kathysyahrizal   \n",
              "318661  2002872654  Tue Jun 02 05:22:07 PDT 2009         kgautam   \n",
              "131276  1835496893  Mon May 18 06:07:33 PDT 2009       thejanice   \n",
              "39699   1573596472  Tue Apr 21 01:55:46 PDT 2009    lucyxechelon   \n",
              "\n",
              "                                                     text  target  \n",
              "740007  This morning my daughter asked me if I hate my...       0  \n",
              "562036     I forgot to charge my bb, zzzzz only 35% left        0  \n",
              "318661  my MBP battery is fluctuating between dead to ...       0  \n",
              "131276  i really wish my landlord would call me back. ...       0  \n",
              "39699                                   mean blog people        0  "
            ]
          },
          "execution_count": 6,
          "metadata": {},
          "output_type": "execute_result"
        }
      ],
      "source": [
        "neg_df.head()"
      ]
    },
    {
      "cell_type": "code",
      "execution_count": 7,
      "metadata": {},
      "outputs": [
        {
          "data": {
            "text/html": [
              "<div>\n",
              "<style scoped>\n",
              "    .dataframe tbody tr th:only-of-type {\n",
              "        vertical-align: middle;\n",
              "    }\n",
              "\n",
              "    .dataframe tbody tr th {\n",
              "        vertical-align: top;\n",
              "    }\n",
              "\n",
              "    .dataframe thead th {\n",
              "        text-align: right;\n",
              "    }\n",
              "</style>\n",
              "<table border=\"1\" class=\"dataframe\">\n",
              "  <thead>\n",
              "    <tr style=\"text-align: right;\">\n",
              "      <th></th>\n",
              "      <th>ids</th>\n",
              "      <th>date</th>\n",
              "      <th>user</th>\n",
              "      <th>text</th>\n",
              "      <th>target</th>\n",
              "    </tr>\n",
              "  </thead>\n",
              "  <tbody>\n",
              "    <tr>\n",
              "      <th>1129018</th>\n",
              "      <td>1975455456</td>\n",
              "      <td>Sat May 30 15:11:36 PDT 2009</td>\n",
              "      <td>MELi_BELLY</td>\n",
              "      <td>is celebrating people that I love!  --&amp;gt; Lov...</td>\n",
              "      <td>4</td>\n",
              "    </tr>\n",
              "    <tr>\n",
              "      <th>1075997</th>\n",
              "      <td>1967341404</td>\n",
              "      <td>Fri May 29 19:24:16 PDT 2009</td>\n",
              "      <td>Vinamae</td>\n",
              "      <td>with my babe. bye!</td>\n",
              "      <td>4</td>\n",
              "    </tr>\n",
              "    <tr>\n",
              "      <th>1153687</th>\n",
              "      <td>1978844458</td>\n",
              "      <td>Sun May 31 00:40:03 PDT 2009</td>\n",
              "      <td>BrinaM</td>\n",
              "      <td>Morning all. Gorgeous sunny day again here and...</td>\n",
              "      <td>4</td>\n",
              "    </tr>\n",
              "    <tr>\n",
              "      <th>1388967</th>\n",
              "      <td>2053073343</td>\n",
              "      <td>Sat Jun 06 03:09:58 PDT 2009</td>\n",
              "      <td>CrashLiverar</td>\n",
              "      <td>@JoanneDuran It looks like you made 900 follow...</td>\n",
              "      <td>4</td>\n",
              "    </tr>\n",
              "    <tr>\n",
              "      <th>1341127</th>\n",
              "      <td>2031190204</td>\n",
              "      <td>Thu Jun 04 09:27:46 PDT 2009</td>\n",
              "      <td>eyaustin</td>\n",
              "      <td>@LynzMichelle Its exciting because we had a lo...</td>\n",
              "      <td>4</td>\n",
              "    </tr>\n",
              "  </tbody>\n",
              "</table>\n",
              "</div>"
            ],
            "text/plain": [
              "                ids                          date          user  \\\n",
              "1129018  1975455456  Sat May 30 15:11:36 PDT 2009    MELi_BELLY   \n",
              "1075997  1967341404  Fri May 29 19:24:16 PDT 2009       Vinamae   \n",
              "1153687  1978844458  Sun May 31 00:40:03 PDT 2009        BrinaM   \n",
              "1388967  2053073343  Sat Jun 06 03:09:58 PDT 2009  CrashLiverar   \n",
              "1341127  2031190204  Thu Jun 04 09:27:46 PDT 2009      eyaustin   \n",
              "\n",
              "                                                      text  target  \n",
              "1129018  is celebrating people that I love!  --&gt; Lov...       4  \n",
              "1075997                                with my babe. bye!        4  \n",
              "1153687  Morning all. Gorgeous sunny day again here and...       4  \n",
              "1388967  @JoanneDuran It looks like you made 900 follow...       4  \n",
              "1341127  @LynzMichelle Its exciting because we had a lo...       4  "
            ]
          },
          "execution_count": 7,
          "metadata": {},
          "output_type": "execute_result"
        }
      ],
      "source": [
        "pos_df.head()"
      ]
    },
    {
      "cell_type": "code",
      "execution_count": 8,
      "metadata": {},
      "outputs": [],
      "source": [
        "# combine neg_df and pos_df\n",
        "use_df = pd.concat([neg_df, pos_df], axis=0)"
      ]
    },
    {
      "cell_type": "code",
      "execution_count": 9,
      "metadata": {},
      "outputs": [
        {
          "data": {
            "text/plain": [
              "array([0, 4])"
            ]
          },
          "execution_count": 9,
          "metadata": {},
          "output_type": "execute_result"
        }
      ],
      "source": [
        "pd.unique(use_df.target)"
      ]
    },
    {
      "cell_type": "code",
      "execution_count": 10,
      "metadata": {},
      "outputs": [
        {
          "name": "stdout",
          "output_type": "stream",
          "text": [
            "Number of 0s:  25000\n",
            "Number of 4s:  25000\n"
          ]
        }
      ],
      "source": [
        "# print number of 0s and 4s\n",
        "print(\"Number of 0s: \", len(use_df[use_df.target == 0]))\n",
        "print(\"Number of 4s: \", len(use_df[use_df.target == 4]))"
      ]
    },
    {
      "cell_type": "code",
      "execution_count": 11,
      "metadata": {
        "id": "m605I8z8HdQ6"
      },
      "outputs": [],
      "source": [
        "import gensim\n",
        "from gensim.models import Word2Vec\n",
        "from sklearn.model_selection import train_test_split\n",
        "from sklearn.metrics import accuracy_score"
      ]
    },
    {
      "cell_type": "code",
      "execution_count": 12,
      "metadata": {
        "id": "2UO_omPHORCF"
      },
      "outputs": [],
      "source": [
        "# use pretrained google word2vec model\n",
        "model_word2vec = gensim.models.KeyedVectors.load_word2vec_format(\"/Users/jeremyhudsonchan/Dropbox/Files/Github_Repos/Twitter-Sentiment-Analysis/GoogleNews-vectors-negative300.bin.gz\", binary=True)"
      ]
    },
    {
      "cell_type": "code",
      "execution_count": 13,
      "metadata": {},
      "outputs": [],
      "source": [
        "# apply model_word2vec to each text in use_df\n",
        "def word2vec(text):\n",
        "    text = text.split()\n",
        "    # use keyedvector's .get_vector() method to get the vector for each word in text\n",
        "    # if word is not in model_word2vec, return a vector of 0s\n",
        "    text = [model_word2vec.get_vector(word) if word in model_word2vec else np.zeros(300) for word in text]\n",
        "    return text\n",
        "\n",
        "# apply word2vec to each text in use_df\n",
        "use_df['text'] = use_df['text'].apply(word2vec)"
      ]
    },
    {
      "cell_type": "code",
      "execution_count": 14,
      "metadata": {},
      "outputs": [
        {
          "name": "stdout",
          "output_type": "stream",
          "text": [
            "740007    [[-0.2890625, 0.19921875, 0.16015625, 0.025268...\n",
            "Name: text, dtype: object\n"
          ]
        }
      ],
      "source": [
        "print(use_df['text'].head(1))"
      ]
    },
    {
      "cell_type": "code",
      "execution_count": 15,
      "metadata": {},
      "outputs": [],
      "source": [
        "# sum all the vectors in each text\n",
        "def sum_vectors(text):\n",
        "    text = np.array(text)\n",
        "    text = np.sum(text, axis=0)\n",
        "    return text\n",
        "\n",
        "# apply sum_vectors to each text in use_df\n",
        "use_df['text'] = use_df['text'].apply(sum_vectors)"
      ]
    },
    {
      "cell_type": "code",
      "execution_count": 16,
      "metadata": {},
      "outputs": [
        {
          "name": "stdout",
          "output_type": "stream",
          "text": [
            "740007    [0.6248779296875, 0.260833740234375, 1.0648345...\n",
            "562036    [0.875732421875, 0.374603271484375, 0.68841552...\n",
            "Name: text, dtype: object\n"
          ]
        }
      ],
      "source": [
        "print(use_df['text'].head(2))"
      ]
    },
    {
      "cell_type": "code",
      "execution_count": 17,
      "metadata": {},
      "outputs": [
        {
          "name": "stdout",
          "output_type": "stream",
          "text": [
            "50000\n"
          ]
        }
      ],
      "source": [
        "print(len(use_df['text']))"
      ]
    },
    {
      "cell_type": "code",
      "execution_count": 18,
      "metadata": {},
      "outputs": [],
      "source": [
        "# check if each text has 300 elements\n",
        "for i in range(len(use_df['text'])):\n",
        "    if len(use_df['text'].iloc[i]) != 300:\n",
        "        print(i)"
      ]
    },
    {
      "cell_type": "code",
      "execution_count": 25,
      "metadata": {},
      "outputs": [],
      "source": [
        "# make use_df['text'] to a pandas dataframe with 300 columns, keeping the indexs\n",
        "temp_df = pd.DataFrame(use_df['text'].tolist(), index=use_df.index)\n",
        "# add target column to temp_df\n",
        "temp_df['target'] = use_df['target']"
      ]
    },
    {
      "cell_type": "code",
      "execution_count": 26,
      "metadata": {},
      "outputs": [
        {
          "data": {
            "text/plain": [
              "740007    0\n",
              "562036    0\n",
              "318661    0\n",
              "131276    0\n",
              "39699     0\n",
              "Name: target, dtype: int64"
            ]
          },
          "execution_count": 26,
          "metadata": {},
          "output_type": "execute_result"
        }
      ],
      "source": [
        "temp_df['target'].head()"
      ]
    },
    {
      "cell_type": "code",
      "execution_count": 27,
      "metadata": {
        "id": "J2HHb7fdOOgq"
      },
      "outputs": [],
      "source": [
        "# train test split\n",
        "X_train, X_test, y_train, y_test = train_test_split(temp_df.drop('target', axis=1), temp_df['target'], test_size=0.2, random_state=5)"
      ]
    },
    {
      "cell_type": "code",
      "execution_count": 29,
      "metadata": {
        "id": "MIwyAchKOJkj"
      },
      "outputs": [],
      "source": [
        "# logistic regression, with train_x being a list of lists\n",
        "from sklearn.linear_model import LogisticRegression\n",
        "def logistic_regression(train_x, train_y):\n",
        "  classifier = LogisticRegression(max_iter=100000)\n",
        "  classifier.fit(train_x, train_y)\n",
        "  return classifier\n",
        "\n",
        "# svm\n",
        "from sklearn.svm import SVC\n",
        "def svm(train_x, train_y):\n",
        "    # take a subset of train_x and train_y\n",
        "    classifier = SVC(max_iter=100000, C=1.0)\n",
        "    classifier.fit(train_x, train_y)\n",
        "    return classifier\n",
        "\n",
        "# knn\n",
        "from sklearn.neighbors import KNeighborsClassifier\n",
        "def knn(train_x, train_y):\n",
        "  # take a subset of train_x and train_y\n",
        "  classifier = KNeighborsClassifier()\n",
        "  classifier.fit(train_x, train_y)\n",
        "  return classifier\n",
        "\n",
        "# decision tree\n",
        "from sklearn import tree\n",
        "def decision_tree(train_x, train_y):\n",
        "  classifier = tree.DecisionTreeClassifier()\n",
        "  classifier.fit(train_x, train_y)\n",
        "  return classifier"
      ]
    },
    {
      "cell_type": "code",
      "execution_count": 30,
      "metadata": {
        "colab": {
          "base_uri": "https://localhost:8080/"
        },
        "id": "Fy0YuvsMOSJO",
        "outputId": "94c1e2ef-4c0b-48cd-8514-e93735a7cf16"
      },
      "outputs": [
        {
          "name": "stdout",
          "output_type": "stream",
          "text": [
            "0.7192\n",
            "--- 2.4119558334350586 seconds ---\n"
          ]
        }
      ],
      "source": [
        "# run logistic regression\n",
        "import time\n",
        "start_time = time.time()\n",
        "classifier = logistic_regression(X_train, y_train)\n",
        "log_predictions = classifier.predict(X_test)\n",
        "print(accuracy_score(y_test, log_predictions))\n",
        "print(\"--- %s seconds ---\" % (time.time() - start_time))"
      ]
    },
    {
      "cell_type": "code",
      "execution_count": 31,
      "metadata": {
        "colab": {
          "base_uri": "https://localhost:8080/"
        },
        "id": "nqN3OoLrOXmT",
        "outputId": "f13c3851-9318-42a2-9cda-d9766024b2c5"
      },
      "outputs": [
        {
          "name": "stdout",
          "output_type": "stream",
          "text": [
            "0.7352\n",
            "--- 1293.4701447486877 seconds ---\n"
          ]
        }
      ],
      "source": [
        "# run svm\n",
        "start_time = time.time()\n",
        "classifier = svm(X_train, y_train)\n",
        "predictions = classifier.predict(X_test)\n",
        "print(accuracy_score(y_test, predictions))\n",
        "print(\"--- %s seconds ---\" % (time.time() - start_time))"
      ]
    },
    {
      "cell_type": "code",
      "execution_count": 32,
      "metadata": {
        "colab": {
          "base_uri": "https://localhost:8080/"
        },
        "id": "X5YcO0ybObHP",
        "outputId": "373b6e2f-bf10-4ab9-d732-fca11a8d5ffc"
      },
      "outputs": [
        {
          "name": "stdout",
          "output_type": "stream",
          "text": [
            "0.6582\n",
            "--- 2.195223093032837 seconds ---\n"
          ]
        }
      ],
      "source": [
        "# run knn\n",
        "start_time = time.time()\n",
        "classifier = knn(X_train, y_train)\n",
        "predictions = classifier.predict(X_test)\n",
        "print(accuracy_score(y_test, predictions))\n",
        "print(\"--- %s seconds ---\" % (time.time() - start_time))"
      ]
    },
    {
      "cell_type": "code",
      "execution_count": 34,
      "metadata": {
        "colab": {
          "base_uri": "https://localhost:8080/"
        },
        "id": "Dg3bDhanOeBK",
        "outputId": "380cc82c-5e8d-4663-b383-a11fd6173ab3"
      },
      "outputs": [
        {
          "name": "stdout",
          "output_type": "stream",
          "text": [
            "0.5977\n",
            "--- 70.76721978187561 seconds ---\n"
          ]
        }
      ],
      "source": [
        "# run decision tree\n",
        "start_time = time.time()\n",
        "classifier = decision_tree(X_train, y_train)\n",
        "predictions = classifier.predict(X_test)\n",
        "print(accuracy_score(y_test, predictions))\n",
        "print(\"--- %s seconds ---\" % (time.time() - start_time))"
      ]
    }
  ],
  "metadata": {
    "accelerator": "GPU",
    "colab": {
      "provenance": []
    },
    "gpuClass": "standard",
    "kernelspec": {
      "display_name": "Python 3.10.7 64-bit",
      "language": "python",
      "name": "python3"
    },
    "language_info": {
      "codemirror_mode": {
        "name": "ipython",
        "version": 3
      },
      "file_extension": ".py",
      "mimetype": "text/x-python",
      "name": "python",
      "nbconvert_exporter": "python",
      "pygments_lexer": "ipython3",
      "version": "3.10.7"
    },
    "vscode": {
      "interpreter": {
        "hash": "aee8b7b246df8f9039afb4144a1f6fd8d2ca17a180786b69acc140d282b71a49"
      }
    }
  },
  "nbformat": 4,
  "nbformat_minor": 0
}
