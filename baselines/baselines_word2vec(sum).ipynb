{
  "cells": [
    {
      "cell_type": "code",
      "execution_count": 5,
      "metadata": {
        "colab": {
          "base_uri": "https://localhost:8080/"
        },
        "id": "yCqUJMJVQ3D4",
        "outputId": "f19bda8e-667b-4129-b006-8b04d2162a2d"
      },
      "outputs": [
        {
          "name": "stdout",
          "output_type": "stream",
          "text": [
            "\u001b[33mDEPRECATION: Configuring installation scheme with distutils config files is deprecated and will no longer work in the near future. If you are using a Homebrew or Linuxbrew Python, please see discussion at https://github.com/Homebrew/homebrew-core/issues/76621\u001b[0m\u001b[33m\n",
            "\u001b[0mRequirement already satisfied: scipy in /usr/local/lib/python3.9/site-packages (1.9.1)\n",
            "Requirement already satisfied: numpy<1.25.0,>=1.18.5 in /usr/local/lib/python3.9/site-packages (from scipy) (1.23.2)\n",
            "\u001b[33mDEPRECATION: Configuring installation scheme with distutils config files is deprecated and will no longer work in the near future. If you are using a Homebrew or Linuxbrew Python, please see discussion at https://github.com/Homebrew/homebrew-core/issues/76621\u001b[0m\u001b[33m\n",
            "\u001b[0m"
          ]
        }
      ],
      "source": [
        "!pip install scipy"
      ]
    },
    {
      "cell_type": "code",
      "execution_count": 6,
      "metadata": {
        "id": "4cZhWtcuw9Fm"
      },
      "outputs": [],
      "source": [
        "import pandas as pd\n",
        "import numpy as np\n",
        "import time"
      ]
    },
    {
      "cell_type": "code",
      "execution_count": 7,
      "metadata": {
        "id": "pckbxzm12j-u"
      },
      "outputs": [],
      "source": [
        "df = pd.read_csv(\"/Users/jeremyhudsonchan/Dropbox/Files/Github_Repos/Twitter-Sentiment-Analysis/data/sampled/training.1600000.processed.noemoticon.csv\", encoding = \"latin-1\", low_memory=False)"
      ]
    },
    {
      "cell_type": "code",
      "execution_count": 8,
      "metadata": {
        "colab": {
          "base_uri": "https://localhost:8080/",
          "height": 268
        },
        "id": "CiqFtU2v3Cw4",
        "outputId": "15435632-3b8f-47ff-a411-6f3f19f50e1d"
      },
      "outputs": [
        {
          "data": {
            "text/html": [
              "<div>\n",
              "<style scoped>\n",
              "    .dataframe tbody tr th:only-of-type {\n",
              "        vertical-align: middle;\n",
              "    }\n",
              "\n",
              "    .dataframe tbody tr th {\n",
              "        vertical-align: top;\n",
              "    }\n",
              "\n",
              "    .dataframe thead th {\n",
              "        text-align: right;\n",
              "    }\n",
              "</style>\n",
              "<table border=\"1\" class=\"dataframe\">\n",
              "  <thead>\n",
              "    <tr style=\"text-align: right;\">\n",
              "      <th></th>\n",
              "      <th>ids</th>\n",
              "      <th>date</th>\n",
              "      <th>user</th>\n",
              "      <th>text</th>\n",
              "      <th>target</th>\n",
              "    </tr>\n",
              "  </thead>\n",
              "  <tbody>\n",
              "    <tr>\n",
              "      <th>0</th>\n",
              "      <td>2265878782</td>\n",
              "      <td>Sun Jun 21 07:29:15 PDT 2009</td>\n",
              "      <td>MeeJong</td>\n",
              "      <td>This morning my daughter asked me if I hate my...</td>\n",
              "      <td>0</td>\n",
              "    </tr>\n",
              "    <tr>\n",
              "      <th>1</th>\n",
              "      <td>2205565064</td>\n",
              "      <td>Wed Jun 17 05:00:35 PDT 2009</td>\n",
              "      <td>kathysyahrizal</td>\n",
              "      <td>I forgot to charge my bb, zzzzz only 35% left</td>\n",
              "      <td>0</td>\n",
              "    </tr>\n",
              "    <tr>\n",
              "      <th>2</th>\n",
              "      <td>2002872654</td>\n",
              "      <td>Tue Jun 02 05:22:07 PDT 2009</td>\n",
              "      <td>kgautam</td>\n",
              "      <td>my MBP battery is fluctuating between dead to ...</td>\n",
              "      <td>0</td>\n",
              "    </tr>\n",
              "    <tr>\n",
              "      <th>3</th>\n",
              "      <td>1835496893</td>\n",
              "      <td>Mon May 18 06:07:33 PDT 2009</td>\n",
              "      <td>thejanice</td>\n",
              "      <td>i really wish my landlord would call me back. ...</td>\n",
              "      <td>0</td>\n",
              "    </tr>\n",
              "    <tr>\n",
              "      <th>4</th>\n",
              "      <td>1573596472</td>\n",
              "      <td>Tue Apr 21 01:55:46 PDT 2009</td>\n",
              "      <td>lucyxechelon</td>\n",
              "      <td>mean blog people</td>\n",
              "      <td>0</td>\n",
              "    </tr>\n",
              "  </tbody>\n",
              "</table>\n",
              "</div>"
            ],
            "text/plain": [
              "          ids                          date            user  \\\n",
              "0  2265878782  Sun Jun 21 07:29:15 PDT 2009         MeeJong   \n",
              "1  2205565064  Wed Jun 17 05:00:35 PDT 2009  kathysyahrizal   \n",
              "2  2002872654  Tue Jun 02 05:22:07 PDT 2009         kgautam   \n",
              "3  1835496893  Mon May 18 06:07:33 PDT 2009       thejanice   \n",
              "4  1573596472  Tue Apr 21 01:55:46 PDT 2009    lucyxechelon   \n",
              "\n",
              "                                                text  target  \n",
              "0  This morning my daughter asked me if I hate my...       0  \n",
              "1     I forgot to charge my bb, zzzzz only 35% left        0  \n",
              "2  my MBP battery is fluctuating between dead to ...       0  \n",
              "3  i really wish my landlord would call me back. ...       0  \n",
              "4                                  mean blog people        0  "
            ]
          },
          "execution_count": 8,
          "metadata": {},
          "output_type": "execute_result"
        }
      ],
      "source": [
        "df.head()"
      ]
    },
    {
      "cell_type": "code",
      "execution_count": 9,
      "metadata": {},
      "outputs": [
        {
          "data": {
            "text/plain": [
              "(50000, 5)"
            ]
          },
          "execution_count": 9,
          "metadata": {},
          "output_type": "execute_result"
        }
      ],
      "source": [
        "df.shape"
      ]
    },
    {
      "cell_type": "code",
      "execution_count": 10,
      "metadata": {
        "id": "m605I8z8HdQ6"
      },
      "outputs": [],
      "source": [
        "import gensim\n",
        "from sklearn.model_selection import train_test_split\n",
        "from sklearn.metrics import accuracy_score, classification_report, confusion_matrix, roc_auc_score, roc_curve\n",
        "import matplotlib.pyplot as plt"
      ]
    },
    {
      "cell_type": "code",
      "execution_count": 11,
      "metadata": {
        "id": "2UO_omPHORCF"
      },
      "outputs": [],
      "source": [
        "# use pretrained google word2vec model\n",
        "model_word2vec = gensim.models.KeyedVectors.load_word2vec_format(\"/Users/jeremyhudsonchan/Dropbox/Files/Github_Repos/Twitter-Sentiment-Analysis/GoogleNews-vectors-negative300.bin.gz\", binary=True)"
      ]
    },
    {
      "cell_type": "code",
      "execution_count": 12,
      "metadata": {},
      "outputs": [],
      "source": [
        "# apply model_word2vec to each text in use_df\n",
        "def word2vec(text):\n",
        "    text = text.split()\n",
        "    # use keyedvector's .get_vector() method to get the vector for each word in text\n",
        "    # if word is not in model_word2vec, return a vector of 0s\n",
        "    text = [model_word2vec.get_vector(word) if word in model_word2vec else np.zeros(300) for word in text]\n",
        "    return text\n",
        "\n",
        "# apply word2vec to each text in use_df\n",
        "df['text'] = df['text'].apply(word2vec)"
      ]
    },
    {
      "cell_type": "code",
      "execution_count": 13,
      "metadata": {},
      "outputs": [
        {
          "name": "stdout",
          "output_type": "stream",
          "text": [
            "0    [[-0.2890625, 0.19921875, 0.16015625, 0.025268...\n",
            "Name: text, dtype: object\n"
          ]
        }
      ],
      "source": [
        "print(df['text'].head(1))"
      ]
    },
    {
      "cell_type": "code",
      "execution_count": 14,
      "metadata": {},
      "outputs": [],
      "source": [
        "# sum all the vectors in each text\n",
        "def sum_vectors(text):\n",
        "    text = np.array(text)\n",
        "    text = np.sum(text, axis=0)\n",
        "    return text\n",
        "\n",
        "# apply sum_vectors to each text in use_df\n",
        "df['text'] = df['text'].apply(sum_vectors)"
      ]
    },
    {
      "cell_type": "code",
      "execution_count": 15,
      "metadata": {},
      "outputs": [
        {
          "name": "stdout",
          "output_type": "stream",
          "text": [
            "0    [0.6248779296875, 0.260833740234375, 1.0648345...\n",
            "1    [0.875732421875, 0.374603271484375, 0.68841552...\n",
            "Name: text, dtype: object\n"
          ]
        }
      ],
      "source": [
        "print(df['text'].head(2))"
      ]
    },
    {
      "cell_type": "code",
      "execution_count": 16,
      "metadata": {},
      "outputs": [
        {
          "name": "stdout",
          "output_type": "stream",
          "text": [
            "50000\n"
          ]
        }
      ],
      "source": [
        "print(len(df['text']))"
      ]
    },
    {
      "cell_type": "code",
      "execution_count": 17,
      "metadata": {},
      "outputs": [],
      "source": [
        "# check if each text has 300 elements\n",
        "for i in range(len(df['text'])):\n",
        "    if len(df['text'].iloc[i]) != 300:\n",
        "        print(i)"
      ]
    },
    {
      "cell_type": "code",
      "execution_count": 18,
      "metadata": {},
      "outputs": [],
      "source": [
        "# make use_df['text'] to a pandas dataframe with 300 columns, keeping the indexs\n",
        "temp_df = pd.DataFrame(df['text'].tolist(), index=df.index)\n",
        "# add target column to temp_df\n",
        "temp_df['target'] = df['target']"
      ]
    },
    {
      "cell_type": "code",
      "execution_count": 19,
      "metadata": {},
      "outputs": [
        {
          "data": {
            "text/plain": [
              "0    0\n",
              "1    0\n",
              "2    0\n",
              "3    0\n",
              "4    0\n",
              "Name: target, dtype: int64"
            ]
          },
          "execution_count": 19,
          "metadata": {},
          "output_type": "execute_result"
        }
      ],
      "source": [
        "temp_df['target'].head()"
      ]
    },
    {
      "cell_type": "code",
      "execution_count": 20,
      "metadata": {
        "id": "J2HHb7fdOOgq"
      },
      "outputs": [],
      "source": [
        "# train test split\n",
        "X_train, X_test, y_train, y_test = train_test_split(temp_df.drop('target', axis=1), temp_df['target'], test_size=0.2, random_state=5)"
      ]
    },
    {
      "cell_type": "code",
      "execution_count": 21,
      "metadata": {
        "id": "MIwyAchKOJkj"
      },
      "outputs": [],
      "source": [
        "# logistic regression, with train_x being a list of lists\n",
        "from sklearn.linear_model import LogisticRegression\n",
        "def logistic_regression(train_x, train_y):\n",
        "  classifier = LogisticRegression(max_iter=100000)\n",
        "  classifier.fit(train_x, train_y)\n",
        "  return classifier\n",
        "\n",
        "# svm\n",
        "from sklearn.svm import SVC\n",
        "def svm(train_x, train_y):\n",
        "    # take a subset of train_x and train_y\n",
        "    classifier = SVC(max_iter=100000, C=1.0)\n",
        "    classifier.fit(train_x, train_y)\n",
        "    return classifier\n",
        "\n",
        "# knn\n",
        "from sklearn.neighbors import KNeighborsClassifier\n",
        "def knn(train_x, train_y):\n",
        "  # take a subset of train_x and train_y\n",
        "  classifier = KNeighborsClassifier()\n",
        "  classifier.fit(train_x, train_y)\n",
        "  return classifier\n",
        "\n",
        "# decision tree\n",
        "from sklearn import tree\n",
        "def decision_tree(train_x, train_y):\n",
        "  classifier = tree.DecisionTreeClassifier()\n",
        "  classifier.fit(train_x, train_y)\n",
        "  return classifier"
      ]
    },
    {
      "cell_type": "code",
      "execution_count": 22,
      "metadata": {
        "colab": {
          "base_uri": "https://localhost:8080/"
        },
        "id": "Fy0YuvsMOSJO",
        "outputId": "94c1e2ef-4c0b-48cd-8514-e93735a7cf16"
      },
      "outputs": [
        {
          "name": "stdout",
          "output_type": "stream",
          "text": [
            "0.7192\n",
            "--- 2.091555118560791 seconds ---\n"
          ]
        }
      ],
      "source": [
        "# run logistic regression\n",
        "import time\n",
        "start_time = time.time()\n",
        "classifier = logistic_regression(X_train, y_train)\n",
        "log_predictions = classifier.predict(X_test)\n",
        "print(\"--- %s seconds ---\" % (time.time() - start_time))"
      ]
    },
    {
      "cell_type": "code",
      "execution_count": null,
      "metadata": {},
      "outputs": [],
      "source": [
        "# evaluate logistic regression\n",
        "print(accuracy_score(y_test, log_predictions))\n",
        "print(classification_report(y_test, log_predictions))\n",
        "print(confusion_matrix(y_test, log_predictions))"
      ]
    },
    {
      "cell_type": "code",
      "execution_count": null,
      "metadata": {},
      "outputs": [],
      "source": [
        "# plot roc curve\n",
        "log_fpr, log_tpr, log_thresold = roc_curve(y_test, log_predictions, pos_label=4)\n",
        "plt.plot(log_fpr, log_tpr, label=\"Logistic Regression\")\n",
        "plt.plot([0,1], [0,1], label=\"Baseline\")\n",
        "plt.xlabel(\"False Positive Rate\")\n",
        "plt.ylabel(\"True Positive Rate\")\n",
        "plt.title(\"ROC Curve\")\n",
        "plt.legend()\n",
        "plt.show()\n",
        "# print auc score\n",
        "print(roc_auc_score(y_test, log_predictions))"
      ]
    },
    {
      "cell_type": "code",
      "execution_count": 23,
      "metadata": {
        "colab": {
          "base_uri": "https://localhost:8080/"
        },
        "id": "nqN3OoLrOXmT",
        "outputId": "f13c3851-9318-42a2-9cda-d9766024b2c5"
      },
      "outputs": [
        {
          "name": "stdout",
          "output_type": "stream",
          "text": [
            "0.7352\n",
            "--- 535.0357539653778 seconds ---\n"
          ]
        }
      ],
      "source": [
        "# run svm\n",
        "start_time = time.time()\n",
        "classifier = svm(X_train, y_train)\n",
        "predictions = classifier.predict(X_test)\n",
        "print(\"--- %s seconds ---\" % (time.time() - start_time))"
      ]
    },
    {
      "cell_type": "code",
      "execution_count": null,
      "metadata": {},
      "outputs": [],
      "source": [
        "# evaluate svm\n",
        "print(accuracy_score(y_test, predictions))\n",
        "print(classification_report(y_test, predictions))\n",
        "print(confusion_matrix(y_test, predictions))"
      ]
    },
    {
      "cell_type": "code",
      "execution_count": null,
      "metadata": {},
      "outputs": [],
      "source": [
        "# plot roc curve\n",
        "svm_fpr, svm_tpr, svm_thresold = roc_curve(y_test, predictions, pos_label=4)\n",
        "plt.plot(svm_fpr, svm_tpr, label=\"SVM\")\n",
        "plt.plot([0,1], [0,1], label=\"Baseline\")\n",
        "plt.xlabel(\"False Positive Rate\")\n",
        "plt.ylabel(\"True Positive Rate\")\n",
        "plt.title(\"ROC Curve\")\n",
        "plt.legend()\n",
        "plt.show()\n",
        "# print auc score\n",
        "print(roc_auc_score(y_test, predictions))"
      ]
    },
    {
      "cell_type": "code",
      "execution_count": 24,
      "metadata": {
        "colab": {
          "base_uri": "https://localhost:8080/"
        },
        "id": "X5YcO0ybObHP",
        "outputId": "373b6e2f-bf10-4ab9-d732-fca11a8d5ffc"
      },
      "outputs": [
        {
          "name": "stdout",
          "output_type": "stream",
          "text": [
            "0.6582\n",
            "--- 1.8101298809051514 seconds ---\n"
          ]
        }
      ],
      "source": [
        "# run knn\n",
        "start_time = time.time()\n",
        "classifier = knn(X_train, y_train)\n",
        "predictions = classifier.predict(X_test)\n",
        "print(\"--- %s seconds ---\" % (time.time() - start_time))"
      ]
    },
    {
      "cell_type": "code",
      "execution_count": null,
      "metadata": {},
      "outputs": [],
      "source": [
        "# evaluate knn\n",
        "print(accuracy_score(y_test, predictions))\n",
        "print(classification_report(y_test, predictions))\n",
        "print(confusion_matrix(y_test, predictions))"
      ]
    },
    {
      "cell_type": "code",
      "execution_count": null,
      "metadata": {},
      "outputs": [],
      "source": [
        "# plot roc curve\n",
        "knn_fpr, knn_tpr, knn_thresold = roc_curve(y_test, predictions, pos_label=4)\n",
        "plt.plot(knn_fpr, knn_tpr, label=\"KNN\")\n",
        "plt.plot([0,1], [0,1], label=\"Baseline\")\n",
        "plt.xlabel(\"False Positive Rate\")\n",
        "plt.ylabel(\"True Positive Rate\")\n",
        "plt.title(\"ROC Curve\")\n",
        "plt.legend()\n",
        "plt.show()\n",
        "# print auc score\n",
        "print(roc_auc_score(y_test, predictions))"
      ]
    },
    {
      "cell_type": "code",
      "execution_count": 25,
      "metadata": {
        "colab": {
          "base_uri": "https://localhost:8080/"
        },
        "id": "Dg3bDhanOeBK",
        "outputId": "380cc82c-5e8d-4663-b383-a11fd6173ab3"
      },
      "outputs": [
        {
          "name": "stdout",
          "output_type": "stream",
          "text": [
            "0.5964\n",
            "--- 16.029811143875122 seconds ---\n"
          ]
        }
      ],
      "source": [
        "# run decision tree\n",
        "start_time = time.time()\n",
        "classifier = decision_tree(X_train, y_train)\n",
        "predictions = classifier.predict(X_test)\n",
        "print(\"--- %s seconds ---\" % (time.time() - start_time))"
      ]
    },
    {
      "cell_type": "code",
      "execution_count": null,
      "metadata": {},
      "outputs": [],
      "source": [
        "# evaluate decision tree\n",
        "print(accuracy_score(y_test, predictions))\n",
        "print(classification_report(y_test, predictions))\n",
        "print(confusion_matrix(y_test, predictions))"
      ]
    },
    {
      "cell_type": "code",
      "execution_count": null,
      "metadata": {},
      "outputs": [],
      "source": [
        "# plot roc curve\n",
        "dt_fpr, dt_tpr, dt_thresold = roc_curve(y_test, predictions, pos_label=4)\n",
        "plt.plot(dt_fpr, dt_tpr, label=\"Decision Tree\")\n",
        "plt.plot([0,1], [0,1], label=\"Baseline\")\n",
        "plt.xlabel(\"False Positive Rate\")\n",
        "plt.ylabel(\"True Positive Rate\")\n",
        "plt.title(\"ROC Curve\")\n",
        "plt.legend()\n",
        "plt.show()\n",
        "# print auc score\n",
        "print(roc_auc_score(y_test, predictions))"
      ]
    }
  ],
  "metadata": {
    "accelerator": "GPU",
    "colab": {
      "provenance": []
    },
    "gpuClass": "standard",
    "kernelspec": {
      "display_name": "Python 3.10.7 64-bit",
      "language": "python",
      "name": "python3"
    },
    "language_info": {
      "codemirror_mode": {
        "name": "ipython",
        "version": 3
      },
      "file_extension": ".py",
      "mimetype": "text/x-python",
      "name": "python",
      "nbconvert_exporter": "python",
      "pygments_lexer": "ipython3",
      "version": "3.10.7"
    },
    "vscode": {
      "interpreter": {
        "hash": "aee8b7b246df8f9039afb4144a1f6fd8d2ca17a180786b69acc140d282b71a49"
      }
    }
  },
  "nbformat": 4,
  "nbformat_minor": 0
}
